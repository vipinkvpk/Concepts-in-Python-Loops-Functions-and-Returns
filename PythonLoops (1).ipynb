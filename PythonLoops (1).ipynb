{
  "metadata": {
    "language_info": {
      "codemirror_mode": {
        "name": "python",
        "version": 3
      },
      "file_extension": ".py",
      "mimetype": "text/x-python",
      "name": "python",
      "nbconvert_exporter": "python",
      "pygments_lexer": "ipython3",
      "version": "3.8"
    },
    "kernelspec": {
      "name": "python",
      "display_name": "Pyolite",
      "language": "python"
    }
  },
  "nbformat_minor": 4,
  "nbformat": 4,
  "cells": [
    {
      "cell_type": "code",
      "source": "number=1\nwhile number<5:\n    print(number)\n    number+=1",
      "metadata": {
        "trusted": true
      },
      "execution_count": 1,
      "outputs": [
        {
          "name": "stdout",
          "text": "1\n2\n3\n4\n",
          "output_type": "stream"
        }
      ]
    },
    {
      "cell_type": "code",
      "source": "counter=26\nwhile counter>15:\n    print(counter)\n    counter-=2\n\nprint('while loop has ended')",
      "metadata": {
        "trusted": true
      },
      "execution_count": 2,
      "outputs": [
        {
          "name": "stdout",
          "text": "26\n24\n22\n20\n18\n16\nwhile loop has ended\n",
          "output_type": "stream"
        }
      ]
    },
    {
      "cell_type": "code",
      "source": "cars=['Audi', 'w', 'j' , 'm']\nfor x in cars:\n    if x == 'j':\n        continue\n    print(x)",
      "metadata": {
        "trusted": true
      },
      "execution_count": 18,
      "outputs": [
        {
          "name": "stdout",
          "text": "Audi\nw\nm\n",
          "output_type": "stream"
        }
      ]
    },
    {
      "cell_type": "code",
      "source": "numbers = [1,2,3,4,5,6]\nfor num in numbers:\n    print(num*2)\n    if num == 7:\n        break\n    print(\"inside the for loop\")\nelse:\n    print(\"o t f looop\")\n          ",
      "metadata": {
        "trusted": true
      },
      "execution_count": 11,
      "outputs": [
        {
          "name": "stdout",
          "text": "2\ninside the for loop\n4\ninside the for loop\n6\ninside the for loop\n8\ninside the for loop\n10\ninside the for loop\n12\ninside the for loop\no t f looop\n",
          "output_type": "stream"
        }
      ]
    },
    {
      "cell_type": "code",
      "source": "counter = [1,2,3,4,5,6,7,8,9,10]\nfor count in counter:\n    if count %2:\n        pass\n    else:\n        print(count)\n              ",
      "metadata": {
        "trusted": true
      },
      "execution_count": 22,
      "outputs": [
        {
          "name": "stdout",
          "text": "2\n4\n6\n8\n10\n",
          "output_type": "stream"
        }
      ]
    },
    {
      "cell_type": "code",
      "source": "numbers=[1,2,3]\nletters=['a','b','c']\nfor number in numbers:\n    for letter in letters:\n        print(number,letter)",
      "metadata": {
        "trusted": true
      },
      "execution_count": 24,
      "outputs": [
        {
          "name": "stdout",
          "text": "1 a\n1 b\n1 c\n2 a\n2 b\n2 c\n3 a\n3 b\n3 c\n",
          "output_type": "stream"
        }
      ]
    },
    {
      "cell_type": "code",
      "source": "def print_name(fname, lname, age):\n    print(\"my  name is :\"+fname+ \"+lname\" and my age is: \"+str(age))\n\nprint_name('ema','martina', 34)",
      "metadata": {
        "trusted": true
      },
      "execution_count": 4,
      "outputs": [
        {
          "ename": "<class 'SyntaxError'>",
          "evalue": "invalid syntax. Perhaps you forgot a comma? (<ipython-input-4-c12bf63d0e10>, line 2)",
          "traceback": [
            "\u001b[0;36m  Input \u001b[0;32mIn [4]\u001b[0;36m\u001b[0m\n\u001b[0;31m    print(\"my  name is :\"+fname+ \"+lname\" and my age is: \"+str(age))\u001b[0m\n\u001b[0m          ^\u001b[0m\n\u001b[0;31mSyntaxError\u001b[0m\u001b[0;31m:\u001b[0m invalid syntax. Perhaps you forgot a comma?\n"
          ],
          "output_type": "error"
        }
      ]
    },
    {
      "cell_type": "code",
      "source": "def multiple(num1, num2):\n    return num1*num2\n\nresult=multiple(2,3)\nprint(\"Result = {}\".format(result))",
      "metadata": {
        "trusted": true
      },
      "execution_count": 9,
      "outputs": [
        {
          "name": "stdout",
          "text": "Result = 6\n",
          "output_type": "stream"
        }
      ]
    },
    {
      "cell_type": "code",
      "source": "def greeting(name):\n    return \"Hello\"+name\n\nresult=greeting(\"Emma\")\nprint(result)",
      "metadata": {
        "trusted": true
      },
      "execution_count": 10,
      "outputs": [
        {
          "name": "stdout",
          "text": "HelloEmma\n",
          "output_type": "stream"
        }
      ]
    },
    {
      "cell_type": "code",
      "source": "def about_me():\n    Name=\"eMMA\"\n    age=30\n    children=2\n    return [Name,age,children]\n    \nlistresult= about_me()\nprint(listresult)",
      "metadata": {
        "trusted": true
      },
      "execution_count": 15,
      "outputs": [
        {
          "name": "stdout",
          "text": "['eMMA', 30, 2]\n",
          "output_type": "stream"
        }
      ]
    },
    {
      "cell_type": "code",
      "source": "",
      "metadata": {},
      "execution_count": null,
      "outputs": []
    }
  ]
}